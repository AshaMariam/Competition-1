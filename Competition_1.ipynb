{
  "nbformat": 4,
  "nbformat_minor": 0,
  "metadata": {
    "colab": {
      "provenance": [],
      "authorship_tag": "ABX9TyOUu/U0DCHewN/KP1kw5FLE",
      "include_colab_link": true
    },
    "kernelspec": {
      "name": "python3",
      "display_name": "Python 3"
    },
    "language_info": {
      "name": "python"
    }
  },
  "cells": [
    {
      "cell_type": "markdown",
      "metadata": {
        "id": "view-in-github",
        "colab_type": "text"
      },
      "source": [
        "<a href=\"https://colab.research.google.com/github/AshaMariam/Competition-1/blob/main/Competition_1.ipynb\" target=\"_parent\"><img src=\"https://colab.research.google.com/assets/colab-badge.svg\" alt=\"Open In Colab\"/></a>"
      ]
    },
    {
      "cell_type": "code",
      "source": [
        "import pandas as pd\n",
        "import numpy as np"
      ],
      "metadata": {
        "id": "eNohb2ZJvbkd"
      },
      "execution_count": 39,
      "outputs": []
    },
    {
      "cell_type": "markdown",
      "source": [
        "**1.Create a DataFrame df from this dictionary data which has the index labels.**"
      ],
      "metadata": {
        "id": "Dv86DAew3oyQ"
      }
    },
    {
      "cell_type": "code",
      "source": [
        "data = {'animal': ['cat', 'cat', 'snake', 'dog', 'dog', 'cat', 'snake', 'cat', 'dog', 'dog'],\n",
        "          'age': [2.5, 3, 0.5, np.nan, 5, 2, 4.5, np.nan, 7, 3],\n",
        "          'visits': [1, 3, 2, 3, 2, 3, 1, 1, 2, 1],\n",
        "          'priority': ['yes', 'yes', 'no', 'yes', 'no', 'no', 'no', 'yes', 'no', 'no']}\n",
        "labels = ['a', 'b', 'c', 'd', 'e', 'f', 'g', 'h', 'i', 'j']\n",
        "df = pd.DataFrame(data, index=labels)"
      ],
      "metadata": {
        "id": "o8LXP6PGvlS6"
      },
      "execution_count": 40,
      "outputs": []
    },
    {
      "cell_type": "markdown",
      "source": [
        "**2.Display a summary of the basic information about this DataFrame and its data (hint: there is a single method that can be called on the DataFrame).**"
      ],
      "metadata": {
        "id": "PaA8tPNW3mSy"
      }
    },
    {
      "cell_type": "code",
      "source": [
        "df_info = df.info()"
      ],
      "metadata": {
        "colab": {
          "base_uri": "https://localhost:8080/"
        },
        "id": "IeONeiQ-4ebH",
        "outputId": "57a45a87-ac55-4fab-a81d-5246ea8abaf7"
      },
      "execution_count": 41,
      "outputs": [
        {
          "output_type": "stream",
          "name": "stdout",
          "text": [
            "<class 'pandas.core.frame.DataFrame'>\n",
            "Index: 10 entries, a to j\n",
            "Data columns (total 4 columns):\n",
            " #   Column    Non-Null Count  Dtype  \n",
            "---  ------    --------------  -----  \n",
            " 0   animal    10 non-null     object \n",
            " 1   age       8 non-null      float64\n",
            " 2   visits    10 non-null     int64  \n",
            " 3   priority  10 non-null     object \n",
            "dtypes: float64(1), int64(1), object(2)\n",
            "memory usage: 400.0+ bytes\n"
          ]
        }
      ]
    },
    {
      "cell_type": "markdown",
      "source": [
        "**3.Return the first 3 rows of the DataFrame df.**"
      ],
      "metadata": {
        "id": "KcfO5oEu6BLR"
      }
    },
    {
      "cell_type": "code",
      "source": [
        "first_3_rows = df.head(3)\n",
        "print(first_3_rows)\n"
      ],
      "metadata": {
        "colab": {
          "base_uri": "https://localhost:8080/"
        },
        "id": "fwX75gE1voeg",
        "outputId": "7ca6f182-52df-4ed8-f569-2c71db279333"
      },
      "execution_count": 42,
      "outputs": [
        {
          "output_type": "stream",
          "name": "stdout",
          "text": [
            "  animal  age  visits priority\n",
            "a    cat  2.5       1      yes\n",
            "b    cat  3.0       3      yes\n",
            "c  snake  0.5       2       no\n"
          ]
        }
      ]
    },
    {
      "cell_type": "markdown",
      "source": [
        "**4.Display the 'animal' and 'age' columns from the DataFrame df**"
      ],
      "metadata": {
        "id": "LfCJ86br6IOe"
      }
    },
    {
      "cell_type": "code",
      "source": [
        "animal_age = df[['animal', 'age']]\n",
        "print(animal_age)"
      ],
      "metadata": {
        "colab": {
          "base_uri": "https://localhost:8080/"
        },
        "id": "EoqXP6ljv9k7",
        "outputId": "ca601cf8-acf8-4cfa-cd89-f2b535ed12b3"
      },
      "execution_count": 43,
      "outputs": [
        {
          "output_type": "stream",
          "name": "stdout",
          "text": [
            "  animal  age\n",
            "a    cat  2.5\n",
            "b    cat  3.0\n",
            "c  snake  0.5\n",
            "d    dog  NaN\n",
            "e    dog  5.0\n",
            "f    cat  2.0\n",
            "g  snake  4.5\n",
            "h    cat  NaN\n",
            "i    dog  7.0\n",
            "j    dog  3.0\n"
          ]
        }
      ]
    },
    {
      "cell_type": "markdown",
      "source": [
        "**5.Display the data in rows [3, 4, 8] and in columns ['animal', 'age']**"
      ],
      "metadata": {
        "id": "lZtGH4qX6SwE"
      }
    },
    {
      "cell_type": "code",
      "source": [
        "subset_data = df.loc[['d', 'e', 'i'], ['animal', 'age']]\n",
        "print(subset_data)"
      ],
      "metadata": {
        "colab": {
          "base_uri": "https://localhost:8080/"
        },
        "id": "t8IicNcTwJXX",
        "outputId": "fb7f0e3d-d18e-4648-8d87-990a11310543"
      },
      "execution_count": 44,
      "outputs": [
        {
          "output_type": "stream",
          "name": "stdout",
          "text": [
            "  animal  age\n",
            "d    dog  NaN\n",
            "e    dog  5.0\n",
            "i    dog  7.0\n"
          ]
        }
      ]
    },
    {
      "cell_type": "markdown",
      "source": [
        "**6.Select only the rows where the number of visits is greater than 3.**"
      ],
      "metadata": {
        "id": "ZfHqSLVi6qCC"
      }
    },
    {
      "cell_type": "code",
      "source": [
        "visits_gt_3 = df[df['visits'] > 3]\n",
        "print(visits_gt_3)"
      ],
      "metadata": {
        "colab": {
          "base_uri": "https://localhost:8080/"
        },
        "id": "BkRucLfxwN-d",
        "outputId": "a166453a-a6f0-4190-92e0-f0a9d2045e3b"
      },
      "execution_count": 45,
      "outputs": [
        {
          "output_type": "stream",
          "name": "stdout",
          "text": [
            "Empty DataFrame\n",
            "Columns: [animal, age, visits, priority]\n",
            "Index: []\n"
          ]
        }
      ]
    },
    {
      "cell_type": "markdown",
      "source": [
        "**7.Select the rows where the age is missing, i.e. it is NaN.**"
      ],
      "metadata": {
        "id": "ZaC2-C2Z62Sd"
      }
    },
    {
      "cell_type": "code",
      "source": [
        "age_is_nan = df[df['age'].isna()]\n",
        "print(age_is_nan)"
      ],
      "metadata": {
        "colab": {
          "base_uri": "https://localhost:8080/"
        },
        "id": "carEm_GnwR_z",
        "outputId": "bc6d89da-bdef-4935-e0e1-0f0cb9b3c106"
      },
      "execution_count": 46,
      "outputs": [
        {
          "output_type": "stream",
          "name": "stdout",
          "text": [
            "  animal  age  visits priority\n",
            "d    dog  NaN       3      yes\n",
            "h    cat  NaN       1      yes\n"
          ]
        }
      ]
    },
    {
      "cell_type": "markdown",
      "source": [
        "**8.Select the rows where the animal is a cat and the age is less than 3.**"
      ],
      "metadata": {
        "id": "8e9z_e-07CuX"
      }
    },
    {
      "cell_type": "code",
      "source": [
        "cats_age_lt_3 = df[(df['animal'] == 'cat') & (df['age'] < 3)]\n",
        "print(cats_age_lt_3)"
      ],
      "metadata": {
        "colab": {
          "base_uri": "https://localhost:8080/"
        },
        "id": "Z1CyxddIwRyI",
        "outputId": "53f92f23-71af-46b9-9d19-b3d3e4cbb3cb"
      },
      "execution_count": 47,
      "outputs": [
        {
          "output_type": "stream",
          "name": "stdout",
          "text": [
            "  animal  age  visits priority\n",
            "a    cat  2.5       1      yes\n",
            "f    cat  2.0       3       no\n"
          ]
        }
      ]
    },
    {
      "cell_type": "markdown",
      "source": [
        "**9.Select the rows where the age is between 2 and 4 (inclusive)**"
      ],
      "metadata": {
        "id": "XCdg2vOQ7OvU"
      }
    },
    {
      "cell_type": "code",
      "source": [
        "age_between_2_and_4 = df[(df['age'] >= 2) & (df['age'] <= 4)]\n",
        "print(age_between_2_and_4)"
      ],
      "metadata": {
        "colab": {
          "base_uri": "https://localhost:8080/"
        },
        "id": "VgfhrclhwRiX",
        "outputId": "a74acaed-81cf-470b-f2ac-1cbf62b5ac34"
      },
      "execution_count": 48,
      "outputs": [
        {
          "output_type": "stream",
          "name": "stdout",
          "text": [
            "  animal  age  visits priority\n",
            "a    cat  2.5       1      yes\n",
            "b    cat  3.0       3      yes\n",
            "f    cat  2.0       3       no\n",
            "j    dog  3.0       1       no\n"
          ]
        }
      ]
    },
    {
      "cell_type": "markdown",
      "source": [
        "**10.Change the age in row 'f' to 1.5.**"
      ],
      "metadata": {
        "id": "rfJ-5p9o7Y1W"
      }
    },
    {
      "cell_type": "code",
      "source": [
        "df.at['f', 'age'] = 1.5\n",
        "print(df.at['f', 'age'])"
      ],
      "metadata": {
        "colab": {
          "base_uri": "https://localhost:8080/"
        },
        "id": "N-uMBhFSwRRV",
        "outputId": "da4f87e4-3081-4fa2-9fcf-08f245722b59"
      },
      "execution_count": 49,
      "outputs": [
        {
          "output_type": "stream",
          "name": "stdout",
          "text": [
            "1.5\n"
          ]
        }
      ]
    },
    {
      "cell_type": "markdown",
      "source": [
        "**11.Calculate the sum of all visits in df (i.e. the total number of visits).**"
      ],
      "metadata": {
        "id": "WlHdSl2r7hIc"
      }
    },
    {
      "cell_type": "code",
      "source": [
        "total_visits = df['visits'].sum()\n",
        "print(total_visits)"
      ],
      "metadata": {
        "colab": {
          "base_uri": "https://localhost:8080/"
        },
        "id": "fA6-KpHKwRBC",
        "outputId": "821b8194-b227-499c-f8fc-a46dba776030"
      },
      "execution_count": 50,
      "outputs": [
        {
          "output_type": "stream",
          "name": "stdout",
          "text": [
            "19\n"
          ]
        }
      ]
    },
    {
      "cell_type": "markdown",
      "source": [
        "**12.Calculate the mean age for each different animal in df.**"
      ],
      "metadata": {
        "id": "UnIRcgTO7tIu"
      }
    },
    {
      "cell_type": "code",
      "source": [
        "mean_age_by_animal = df.groupby('animal')['age'].mean()\n",
        "print(mean_age_by_animal)"
      ],
      "metadata": {
        "colab": {
          "base_uri": "https://localhost:8080/"
        },
        "id": "k5rw6HjbwQpM",
        "outputId": "4ac418e3-072c-47a1-ba71-b2350411f8f4"
      },
      "execution_count": 51,
      "outputs": [
        {
          "output_type": "stream",
          "name": "stdout",
          "text": [
            "animal\n",
            "cat      2.333333\n",
            "dog      5.000000\n",
            "snake    2.500000\n",
            "Name: age, dtype: float64\n"
          ]
        }
      ]
    },
    {
      "cell_type": "markdown",
      "source": [
        "**13.Append a new row 'k' to df with your choice of values for each column. Then delete that row to return the original DataFrame.**"
      ],
      "metadata": {
        "id": "0KCWf0X88DZ0"
      }
    },
    {
      "cell_type": "code",
      "source": [
        "new_row = pd.Series({'animal': 'elephant', 'age': 10, 'visits': 4, 'priority': 'yes'}, name='k')\n",
        "df = df.append(new_row)\n",
        "print(df)"
      ],
      "metadata": {
        "colab": {
          "base_uri": "https://localhost:8080/"
        },
        "id": "DPp392eNwQSE",
        "outputId": "f7ea2706-0d8a-4510-c39c-2c4c91c1bd7f"
      },
      "execution_count": 52,
      "outputs": [
        {
          "output_type": "stream",
          "name": "stdout",
          "text": [
            "     animal   age  visits priority\n",
            "a       cat   2.5       1      yes\n",
            "b       cat   3.0       3      yes\n",
            "c     snake   0.5       2       no\n",
            "d       dog   NaN       3      yes\n",
            "e       dog   5.0       2       no\n",
            "f       cat   1.5       3       no\n",
            "g     snake   4.5       1       no\n",
            "h       cat   NaN       1      yes\n",
            "i       dog   7.0       2       no\n",
            "j       dog   3.0       1       no\n",
            "k  elephant  10.0       4      yes\n"
          ]
        },
        {
          "output_type": "stream",
          "name": "stderr",
          "text": [
            "<ipython-input-52-7d676c100ef0>:2: FutureWarning: The frame.append method is deprecated and will be removed from pandas in a future version. Use pandas.concat instead.\n",
            "  df = df.append(new_row)\n"
          ]
        }
      ]
    },
    {
      "cell_type": "code",
      "source": [
        "df = df.drop('k')\n",
        "print(df)"
      ],
      "metadata": {
        "colab": {
          "base_uri": "https://localhost:8080/"
        },
        "id": "nUIb2zk1wP7_",
        "outputId": "6aa5fc04-2a85-4350-b95e-feca7006cf1f"
      },
      "execution_count": 53,
      "outputs": [
        {
          "output_type": "stream",
          "name": "stdout",
          "text": [
            "  animal  age  visits priority\n",
            "a    cat  2.5       1      yes\n",
            "b    cat  3.0       3      yes\n",
            "c  snake  0.5       2       no\n",
            "d    dog  NaN       3      yes\n",
            "e    dog  5.0       2       no\n",
            "f    cat  1.5       3       no\n",
            "g  snake  4.5       1       no\n",
            "h    cat  NaN       1      yes\n",
            "i    dog  7.0       2       no\n",
            "j    dog  3.0       1       no\n"
          ]
        }
      ]
    },
    {
      "cell_type": "markdown",
      "source": [
        "**14.Count the number of each type of animal in df.**"
      ],
      "metadata": {
        "id": "eJn-42TN8nL-"
      }
    },
    {
      "cell_type": "code",
      "source": [
        "animal_counts = df['animal'].value_counts()\n",
        "print(animal_counts)"
      ],
      "metadata": {
        "colab": {
          "base_uri": "https://localhost:8080/"
        },
        "id": "x401RRU-wYr_",
        "outputId": "229dcad0-db78-4759-8f65-e37824a77884"
      },
      "execution_count": 54,
      "outputs": [
        {
          "output_type": "stream",
          "name": "stdout",
          "text": [
            "cat      4\n",
            "dog      4\n",
            "snake    2\n",
            "Name: animal, dtype: int64\n"
          ]
        }
      ]
    },
    {
      "cell_type": "markdown",
      "source": [
        "**15.Sort df first by the values in the 'age' in decending order, then by the value in the 'visits' column in ascending order (so row i should be first, and row d should be last).**"
      ],
      "metadata": {
        "id": "2Y2J-34b8yFq"
      }
    },
    {
      "cell_type": "code",
      "source": [
        "df = df.sort_values(by=['age', 'visits'], ascending=[False, True])\n",
        "print(df)"
      ],
      "metadata": {
        "colab": {
          "base_uri": "https://localhost:8080/"
        },
        "id": "YRrwA6mlwYlM",
        "outputId": "66b9aacc-cd71-4621-cf61-ce5565cc0174"
      },
      "execution_count": 55,
      "outputs": [
        {
          "output_type": "stream",
          "name": "stdout",
          "text": [
            "  animal  age  visits priority\n",
            "i    dog  7.0       2       no\n",
            "e    dog  5.0       2       no\n",
            "g  snake  4.5       1       no\n",
            "j    dog  3.0       1       no\n",
            "b    cat  3.0       3      yes\n",
            "a    cat  2.5       1      yes\n",
            "f    cat  1.5       3       no\n",
            "c  snake  0.5       2       no\n",
            "h    cat  NaN       1      yes\n",
            "d    dog  NaN       3      yes\n"
          ]
        }
      ]
    },
    {
      "cell_type": "markdown",
      "source": [
        "**16.The 'priority' column contains the values 'yes' and 'no'. Replace this column with a column of boolean values: 'yes' should be True and 'no' should be False.**"
      ],
      "metadata": {
        "id": "Wf8CTuPz96Vq"
      }
    },
    {
      "cell_type": "code",
      "source": [
        "df['priority'] = df['priority'].map({'yes': True, 'no': False})\n",
        "print(df)"
      ],
      "metadata": {
        "colab": {
          "base_uri": "https://localhost:8080/"
        },
        "id": "XKlHCj2uwYeK",
        "outputId": "2cb29260-c646-4910-f935-304e171772f4"
      },
      "execution_count": 56,
      "outputs": [
        {
          "output_type": "stream",
          "name": "stdout",
          "text": [
            "  animal  age  visits  priority\n",
            "i    dog  7.0       2     False\n",
            "e    dog  5.0       2     False\n",
            "g  snake  4.5       1     False\n",
            "j    dog  3.0       1     False\n",
            "b    cat  3.0       3      True\n",
            "a    cat  2.5       1      True\n",
            "f    cat  1.5       3     False\n",
            "c  snake  0.5       2     False\n",
            "h    cat  NaN       1      True\n",
            "d    dog  NaN       3      True\n"
          ]
        }
      ]
    },
    {
      "cell_type": "markdown",
      "source": [
        "**17.In the 'animal' column, change the 'snake' entries to 'python'.**"
      ],
      "metadata": {
        "id": "-86uQB49-T6d"
      }
    },
    {
      "cell_type": "code",
      "source": [
        "df['animal'] = df['animal'].replace('snake', 'python')\n",
        "print(df)"
      ],
      "metadata": {
        "colab": {
          "base_uri": "https://localhost:8080/"
        },
        "id": "1Dx6lSO_wYVO",
        "outputId": "c58f9113-c106-42af-cb37-1507bb4ab931"
      },
      "execution_count": 57,
      "outputs": [
        {
          "output_type": "stream",
          "name": "stdout",
          "text": [
            "   animal  age  visits  priority\n",
            "i     dog  7.0       2     False\n",
            "e     dog  5.0       2     False\n",
            "g  python  4.5       1     False\n",
            "j     dog  3.0       1     False\n",
            "b     cat  3.0       3      True\n",
            "a     cat  2.5       1      True\n",
            "f     cat  1.5       3     False\n",
            "c  python  0.5       2     False\n",
            "h     cat  NaN       1      True\n",
            "d     dog  NaN       3      True\n"
          ]
        }
      ]
    },
    {
      "cell_type": "markdown",
      "source": [
        "**18.Load the ny-flights dataset to Python**"
      ],
      "metadata": {
        "id": "6lU3HKeX-sGV"
      }
    },
    {
      "cell_type": "code",
      "source": [
        "import pandas as pd\n",
        "import matplotlib.pyplot as plt\n",
        "import seaborn as sns\n",
        "df_flights = pd.read_csv('/content/ny-flights.csv')"
      ],
      "metadata": {
        "id": "j_UVg_vX_DA-"
      },
      "execution_count": 58,
      "outputs": []
    },
    {
      "cell_type": "markdown",
      "source": [
        "**19.Which airline ID is present maximum times in the dataset**"
      ],
      "metadata": {
        "id": "FZYNAauS-30_"
      }
    },
    {
      "cell_type": "code",
      "source": [
        "most_frequent_airline_id = df_flights['airline_id'].value_counts().idxmax()\n",
        "print(\"Airline ID with the maximum occurrences:\", most_frequent_airline_id)"
      ],
      "metadata": {
        "colab": {
          "base_uri": "https://localhost:8080/"
        },
        "id": "tWVwuCTBurXo",
        "outputId": "2f61c33c-6626-4dab-8b3a-b82c33f85caf"
      },
      "execution_count": 59,
      "outputs": [
        {
          "output_type": "stream",
          "name": "stdout",
          "text": [
            "Airline ID with the maximum occurrences: 20409\n"
          ]
        }
      ]
    },
    {
      "cell_type": "markdown",
      "source": [
        "**20.Draw a plot between dep_delay and arr_delay**"
      ],
      "metadata": {
        "id": "KN6rMiix_IXQ"
      }
    },
    {
      "cell_type": "code",
      "source": [
        "plt.figure(figsize=(8, 6))\n",
        "plt.scatter(df_flights['dep_delay'], df_flights['arr_delay'], c='blue', marker='o', alpha=0.7)\n",
        "plt.title('Departure Delay vs Arrival Delay')\n",
        "plt.xlabel('Departure Delay (minutes)')\n",
        "plt.ylabel('Arrival Delay (minutes)')\n",
        "plt.grid(True)\n",
        "plt.show()\n"
      ],
      "metadata": {
        "colab": {
          "base_uri": "https://localhost:8080/",
          "height": 564
        },
        "id": "7oHstzlPA6yY",
        "outputId": "db9dafd5-69cf-4e0e-8fba-897b0de0aa20"
      },
      "execution_count": 60,
      "outputs": [
        {
          "output_type": "display_data",
          "data": {
            "text/plain": [
              "<Figure size 800x600 with 1 Axes>"
            ],
            "image/png": "[encoded data removed]"
          },
          "metadata": {}
        }
      ]
    }
  ]
}